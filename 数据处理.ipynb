{
 "cells": [
  {
   "cell_type": "code",
   "execution_count": null,
   "metadata": {},
   "outputs": [],
   "source": [
    "#-*- coding : utf-8-*-\n",
    "# coding:unicode_escape\n",
    "import numpy as np\n",
    "import matplotlib.pyplot as plt\n",
    "import os\n",
    "import scipy.signal as sci\n",
    "import pandas as pd\n",
    "path =\"./data/newdata\"\n",
    "plt.rcParams['font.family'] = 'SimHei'\n",
    "plt.rcParams['axes.unicode_minus'] = False   # 步骤二（解决坐标轴负数的负号显示问题）"
   ]
  },
  {
   "cell_type": "code",
   "execution_count": null,
   "metadata": {},
   "outputs": [],
   "source": [
    "files = os.listdir(path)\n",
    "print(files)\n",
    "j=0\n",
    "for i in files:\n",
    "    h=pd.read_csv(path+\"/\"+i,skiprows=3,usecols=[0,8],encoding=\"unicode_escape\")\n",
    "    tem=h.values\n",
    "    temt=0.2335*tem[:,1]+30.15\n",
    "    index=np.where(tem[:,0]<5e-5)\n",
    "    tem=sci.savgol_filter(tem[index,0],97,3,mode=\"nearest\")\n",
    "    if j%2==0:\n",
    "        plt.figure(dpi=300)\n",
    "    plt.scatter(temt[index],tem,s=1,label=i)\n",
    "    plt.xlabel(\"温度(K)\")\n",
    "    plt.ylabel(\"信号强度R(V)\")\n",
    "    plt.legend()\n",
    "    plt.grid(c=\"k\")\n",
    "    j+=1\n",
    "    plt.savefig('./png/'+str(j)+\".png\")"
   ]
  },
  {
   "cell_type": "code",
   "execution_count": null,
   "metadata": {},
   "outputs": [],
   "source": [
    "\n",
    "plt.figure(dpi=300)\n",
    "j=0\n",
    "for i in files:\n",
    "    if j==1 or j==5 or j==7:\n",
    "        h=pd.read_csv(path+\"/\"+i,skiprows=3,usecols=[0,8],encoding=\"unicode_escape\")\n",
    "        tem=h.values\n",
    "        temt=0.2335*tem[:,1]+30.15\n",
    "        index=np.where(tem[:,0]<5e-5)\n",
    "        tem=sci.savgol_filter(tem[index,0],97,3,mode=\"nearest\")\n",
    "        plt.plot(temt[index],tem.reshape(-1),lw=2,label=i)\n",
    "        plt.xlabel(\"温度(K)\")\n",
    "        plt.ylabel(\"信号强度R(V)\")\n",
    "        plt.legend()\n",
    "    plt.grid(c=\"k\")\n",
    "    j+=1\n",
    "    \n",
    "plt.xlabel(\"温度(K)\")\n",
    "plt.ylabel(\"信号强度R(V)\")\n",
    "plt.legend()\n",
    "plt.grid(c=\"k\")\n",
    "plt.savefig('./png/'+str(j+2)+\".png\")"
   ]
  },
  {
   "cell_type": "code",
   "execution_count": null,
   "metadata": {},
   "outputs": [],
   "source": [
    "cen=np.array([0.104,0.261,0.495])\n",
    "edg=np.array([0.121,0.28,0.547])\n",
    "a,b=np.polyfit(edg,cen,1)\n",
    "print(a,b)\n",
    "t=np.linspace(0,0.7,1000)\n",
    "y=a*t+b\n",
    "plt.figure(dpi=300)\n",
    "plt.plot(t,y,c='k',label='拟合曲线:y=0.914*x+-0.002')\n",
    "plt.scatter(edg,cen,c=\"r\",label=\"原始数据点\")\n",
    "plt.xlabel(\"边缘磁场大小(kG)\")\n",
    "plt.ylabel(\"中心磁场大小(kG)\")\n",
    "plt.grid()\n",
    "plt.legend()\n",
    "plt.savefig(\"./png/q1.png\")\n"
   ]
  }
 ],
 "metadata": {
  "interpreter": {
   "hash": "b3ba2566441a7c06988d0923437866b63cedc61552a5af99d1f4fb67d367b25f"
  },
  "kernelspec": {
   "display_name": "Python 3.9.7 ('base')",
   "language": "python",
   "name": "python3"
  },
  "language_info": {
   "codemirror_mode": {
    "name": "ipython",
    "version": 3
   },
   "file_extension": ".py",
   "mimetype": "text/x-python",
   "name": "python",
   "nbconvert_exporter": "python",
   "pygments_lexer": "ipython3",
   "version": "3.9.7"
  },
  "orig_nbformat": 4
 },
 "nbformat": 4,
 "nbformat_minor": 2
}
